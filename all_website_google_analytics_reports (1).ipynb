{
 "cells": [
  {
   "cell_type": "markdown",
   "metadata": {},
   "source": [
    "Google Analytics Report"
   ]
  },
  {
   "cell_type": "markdown",
   "metadata": {},
   "source": [
    "# 1) Website - lincsproject.org"
   ]
  },
  {
   "cell_type": "code",
   "execution_count": 2,
   "metadata": {
    "collapsed": true
   },
   "outputs": [],
   "source": [
    "import os\n",
    "import pandas as pd\n",
    "import numpy as np\n",
    "import csv"
   ]
  },
  {
   "cell_type": "code",
   "execution_count": 69,
   "metadata": {
    "collapsed": false
   },
   "outputs": [
    {
     "data": {
      "text/html": [
       "<div>\n",
       "<table border=\"1\" class=\"dataframe\">\n",
       "  <thead>\n",
       "    <tr style=\"text-align: right;\">\n",
       "      <th></th>\n",
       "      <th>url</th>\n",
       "      <th>category</th>\n",
       "      <th>Service Provider</th>\n",
       "      <th>Sessions</th>\n",
       "      <th>% New Sessions</th>\n",
       "      <th>New Users</th>\n",
       "      <th>Bounce Rate</th>\n",
       "      <th>Pages / Session</th>\n",
       "      <th>Avg. Session Duration</th>\n",
       "      <th>Goal Conversion Rate</th>\n",
       "      <th>Goal Completions</th>\n",
       "      <th>Goal Value</th>\n",
       "      <th>Unnamed: 12</th>\n",
       "      <th>Unnamed: 13</th>\n",
       "    </tr>\n",
       "  </thead>\n",
       "  <tbody>\n",
       "    <tr>\n",
       "      <th>0</th>\n",
       "      <td>https://www.en.advertisercommunity.com/t5/Arti...</td>\n",
       "      <td>other</td>\n",
       "      <td>(not set)</td>\n",
       "      <td>3,229</td>\n",
       "      <td>54.01%</td>\n",
       "      <td>1,744</td>\n",
       "      <td>38.37%</td>\n",
       "      <td>2.87</td>\n",
       "      <td>0:02:11</td>\n",
       "      <td>0.00%</td>\n",
       "      <td>0</td>\n",
       "      <td>$0.00</td>\n",
       "      <td>0.0</td>\n",
       "      <td>0</td>\n",
       "    </tr>\n",
       "    <tr>\n",
       "      <th>1</th>\n",
       "      <td>https://www.helmholtz-muenchen.de/en/</td>\n",
       "      <td>academia</td>\n",
       "      <td>helmholtz zentrum muenchen</td>\n",
       "      <td>12</td>\n",
       "      <td>50.00%</td>\n",
       "      <td>6</td>\n",
       "      <td>16.67%</td>\n",
       "      <td>4.92</td>\n",
       "      <td>0:05:22</td>\n",
       "      <td>0.00%</td>\n",
       "      <td>0</td>\n",
       "      <td>$0.00</td>\n",
       "      <td>0.0</td>\n",
       "      <td>0</td>\n",
       "    </tr>\n",
       "    <tr>\n",
       "      <th>2</th>\n",
       "      <td>www.ibb.waw.pl/en</td>\n",
       "      <td>academia</td>\n",
       "      <td>institute of biochemistry and biophysics lan</td>\n",
       "      <td>12</td>\n",
       "      <td>25.00%</td>\n",
       "      <td>3</td>\n",
       "      <td>8.33%</td>\n",
       "      <td>2.83</td>\n",
       "      <td>0:03:00</td>\n",
       "      <td>0.00%</td>\n",
       "      <td>0</td>\n",
       "      <td>$0.00</td>\n",
       "      <td>0.0</td>\n",
       "      <td>0</td>\n",
       "    </tr>\n",
       "    <tr>\n",
       "      <th>3</th>\n",
       "      <td>www.jagiellonskiecentruminnowacji.pl</td>\n",
       "      <td>academia</td>\n",
       "      <td>jagiellonskie centrum innowacji sp. z.o.o.</td>\n",
       "      <td>12</td>\n",
       "      <td>25.00%</td>\n",
       "      <td>3</td>\n",
       "      <td>41.67%</td>\n",
       "      <td>2.33</td>\n",
       "      <td>0:00:38</td>\n",
       "      <td>0.00%</td>\n",
       "      <td>0</td>\n",
       "      <td>$0.00</td>\n",
       "      <td>0.0</td>\n",
       "      <td>0</td>\n",
       "    </tr>\n",
       "    <tr>\n",
       "      <th>4</th>\n",
       "      <td>http://www.uc.edu/</td>\n",
       "      <td>academia</td>\n",
       "      <td>university of cincinnati</td>\n",
       "      <td>480</td>\n",
       "      <td>42.08%</td>\n",
       "      <td>202</td>\n",
       "      <td>36.67%</td>\n",
       "      <td>2.69</td>\n",
       "      <td>0:02:02</td>\n",
       "      <td>0.00%</td>\n",
       "      <td>0</td>\n",
       "      <td>$0.00</td>\n",
       "      <td>0.0</td>\n",
       "      <td>0</td>\n",
       "    </tr>\n",
       "  </tbody>\n",
       "</table>\n",
       "</div>"
      ],
      "text/plain": [
       "                                                 url  category  \\\n",
       "0  https://www.en.advertisercommunity.com/t5/Arti...     other   \n",
       "1              https://www.helmholtz-muenchen.de/en/  academia   \n",
       "2                                  www.ibb.waw.pl/en  academia   \n",
       "3               www.jagiellonskiecentruminnowacji.pl  academia   \n",
       "4                                 http://www.uc.edu/  academia   \n",
       "\n",
       "                               Service Provider Sessions % New Sessions  \\\n",
       "0                                     (not set)    3,229         54.01%   \n",
       "1                    helmholtz zentrum muenchen       12         50.00%   \n",
       "2  institute of biochemistry and biophysics lan       12         25.00%   \n",
       "3    jagiellonskie centrum innowacji sp. z.o.o.       12         25.00%   \n",
       "4                      university of cincinnati      480         42.08%   \n",
       "\n",
       "  New Users Bounce Rate  Pages / Session Avg. Session Duration  \\\n",
       "0     1,744      38.37%             2.87               0:02:11   \n",
       "1         6      16.67%             4.92               0:05:22   \n",
       "2         3       8.33%             2.83               0:03:00   \n",
       "3         3      41.67%             2.33               0:00:38   \n",
       "4       202      36.67%             2.69               0:02:02   \n",
       "\n",
       "  Goal Conversion Rate  Goal Completions Goal Value  Unnamed: 12 Unnamed: 13  \n",
       "0                0.00%                 0      $0.00          0.0           0  \n",
       "1                0.00%                 0      $0.00          0.0           0  \n",
       "2                0.00%                 0      $0.00          0.0           0  \n",
       "3                0.00%                 0      $0.00          0.0           0  \n",
       "4                0.00%                 0      $0.00          0.0           0  "
      ]
     },
     "execution_count": 69,
     "metadata": {},
     "output_type": "execute_result"
    }
   ],
   "source": [
    "lincs_project = pd.read_csv('/Users/Carol/Desktop/files_google_analytics/lincs_project/lincs_projectA.csv',low_memory=False)\n",
    "lincs_project = lincs_project.fillna(value=0) # Fill empty cells with value 0\n",
    "lincs_project.head(5)"
   ]
  },
  {
   "cell_type": "code",
   "execution_count": 70,
   "metadata": {
    "collapsed": false
   },
   "outputs": [
    {
     "ename": "SyntaxError",
     "evalue": "invalid syntax (<ipython-input-70-cd857d6179de>, line 1)",
     "output_type": "error",
     "traceback": [
      "\u001b[0;36m  File \u001b[0;32m\"<ipython-input-70-cd857d6179de>\"\u001b[0;36m, line \u001b[0;32m1\u001b[0m\n\u001b[0;31m    TOTAL Academic Users:\t5658\u001b[0m\n\u001b[0m                 ^\u001b[0m\n\u001b[0;31mSyntaxError\u001b[0m\u001b[0;31m:\u001b[0m invalid syntax\n"
     ]
    }
   ],
   "source": [
    "TOTAL Academic Users:\t5658\n",
    "TOTAL Sessions:\t14,272"
   ]
  },
  {
   "cell_type": "code",
   "execution_count": null,
   "metadata": {
    "collapsed": true
   },
   "outputs": [],
   "source": [
    "Total Coorporation Users:\t498\n",
    "Unique Coorporation:\t25\n",
    "Total Sessions:\t958"
   ]
  },
  {
   "cell_type": "code",
   "execution_count": null,
   "metadata": {
    "collapsed": true
   },
   "outputs": [],
   "source": [
    "Total Goverment Users:\t1253\n",
    "Unique Government Users:\t19\n",
    "Total Sessions:\t2655"
   ]
  },
  {
   "cell_type": "code",
   "execution_count": null,
   "metadata": {
    "collapsed": true
   },
   "outputs": [],
   "source": [
    "Other\t9,813\n",
    "Sessions Other\t18,121"
   ]
  },
  {
   "cell_type": "markdown",
   "metadata": {},
   "source": [
    "# 2) Website - lincs-dcic"
   ]
  },
  {
   "cell_type": "code",
   "execution_count": 104,
   "metadata": {
    "collapsed": false
   },
   "outputs": [
    {
     "data": {
      "text/html": [
       "<div>\n",
       "<table border=\"1\" class=\"dataframe\">\n",
       "  <thead>\n",
       "    <tr style=\"text-align: right;\">\n",
       "      <th></th>\n",
       "      <th>Service Provider</th>\n",
       "      <th>Network Domain</th>\n",
       "      <th>Sessions</th>\n",
       "      <th>% New Sessions</th>\n",
       "      <th>New Users</th>\n",
       "      <th>Bounce Rate</th>\n",
       "      <th>Pages / Session</th>\n",
       "      <th>Avg. Session Duration</th>\n",
       "      <th>Goal Conversion Rate</th>\n",
       "      <th>Goal Completions</th>\n",
       "      <th>Goal Value</th>\n",
       "    </tr>\n",
       "  </thead>\n",
       "  <tbody>\n",
       "    <tr>\n",
       "      <th>0</th>\n",
       "      <td>(not set)</td>\n",
       "      <td>(not set)</td>\n",
       "      <td>2,666</td>\n",
       "      <td>66.95%</td>\n",
       "      <td>1,785</td>\n",
       "      <td>86.16%</td>\n",
       "      <td>1.40</td>\n",
       "      <td>0:01:28</td>\n",
       "      <td>0.00%</td>\n",
       "      <td>0.0</td>\n",
       "      <td>$0.00</td>\n",
       "    </tr>\n",
       "    <tr>\n",
       "      <th>1</th>\n",
       "      <td>mount sinai school of medicine</td>\n",
       "      <td>mssm.edu</td>\n",
       "      <td>2,647</td>\n",
       "      <td>18.89%</td>\n",
       "      <td>500</td>\n",
       "      <td>61.58%</td>\n",
       "      <td>5.38</td>\n",
       "      <td>0:09:28</td>\n",
       "      <td>0.00%</td>\n",
       "      <td>0.0</td>\n",
       "      <td>$0.00</td>\n",
       "    </tr>\n",
       "    <tr>\n",
       "      <th>2</th>\n",
       "      <td>university of miami</td>\n",
       "      <td>miami.edu</td>\n",
       "      <td>1,112</td>\n",
       "      <td>35.25%</td>\n",
       "      <td>392</td>\n",
       "      <td>82.82%</td>\n",
       "      <td>1.27</td>\n",
       "      <td>0:01:28</td>\n",
       "      <td>0.00%</td>\n",
       "      <td>0.0</td>\n",
       "      <td>$0.00</td>\n",
       "    </tr>\n",
       "    <tr>\n",
       "      <th>3</th>\n",
       "      <td>time warner cable internet llc</td>\n",
       "      <td>rr.com</td>\n",
       "      <td>1,048</td>\n",
       "      <td>40.65%</td>\n",
       "      <td>426</td>\n",
       "      <td>80.44%</td>\n",
       "      <td>1.50</td>\n",
       "      <td>0:02:04</td>\n",
       "      <td>0.00%</td>\n",
       "      <td>0.0</td>\n",
       "      <td>$0.00</td>\n",
       "    </tr>\n",
       "    <tr>\n",
       "      <th>4</th>\n",
       "      <td>google inc.</td>\n",
       "      <td>1e100.net</td>\n",
       "      <td>636</td>\n",
       "      <td>100.00%</td>\n",
       "      <td>636</td>\n",
       "      <td>79.40%</td>\n",
       "      <td>1.21</td>\n",
       "      <td>0:00:37</td>\n",
       "      <td>0.00%</td>\n",
       "      <td>0.0</td>\n",
       "      <td>$0.00</td>\n",
       "    </tr>\n",
       "  </tbody>\n",
       "</table>\n",
       "</div>"
      ],
      "text/plain": [
       "                 Service Provider Network Domain Sessions % New Sessions  \\\n",
       "0                       (not set)      (not set)    2,666         66.95%   \n",
       "1  mount sinai school of medicine       mssm.edu    2,647         18.89%   \n",
       "2             university of miami      miami.edu    1,112         35.25%   \n",
       "3  time warner cable internet llc         rr.com    1,048         40.65%   \n",
       "4                     google inc.      1e100.net      636        100.00%   \n",
       "\n",
       "  New Users Bounce Rate  Pages / Session Avg. Session Duration  \\\n",
       "0     1,785      86.16%             1.40               0:01:28   \n",
       "1       500      61.58%             5.38               0:09:28   \n",
       "2       392      82.82%             1.27               0:01:28   \n",
       "3       426      80.44%             1.50               0:02:04   \n",
       "4       636      79.40%             1.21               0:00:37   \n",
       "\n",
       "  Goal Conversion Rate  Goal Completions Goal Value  \n",
       "0                0.00%               0.0      $0.00  \n",
       "1                0.00%               0.0      $0.00  \n",
       "2                0.00%               0.0      $0.00  \n",
       "3                0.00%               0.0      $0.00  \n",
       "4                0.00%               0.0      $0.00  "
      ]
     },
     "execution_count": 104,
     "metadata": {},
     "output_type": "execute_result"
    }
   ],
   "source": [
    "lincs_dcic = pd.read_csv('/Users/Carol/Desktop/files_google_analytics/lincs_dcic/lincs_dcic_FUll.csv',low_memory=False)\n",
    "lincs_dcic = lincs_dcic.fillna(value=0) # Fill empty cells with value 0\n",
    "lincs_dcic.head(5)"
   ]
  },
  {
   "cell_type": "code",
   "execution_count": 197,
   "metadata": {
    "collapsed": false
   },
   "outputs": [
    {
     "data": {
      "text/plain": [
       "(7227, 11)"
      ]
     },
     "execution_count": 197,
     "metadata": {},
     "output_type": "execute_result"
    }
   ],
   "source": [
    "lincs_dcic.shape"
   ]
  },
  {
   "cell_type": "code",
   "execution_count": 105,
   "metadata": {
    "collapsed": false
   },
   "outputs": [
    {
     "data": {
      "text/plain": [
       "(640, 11)"
      ]
     },
     "execution_count": 105,
     "metadata": {},
     "output_type": "execute_result"
    }
   ],
   "source": [
    "academic = lincs_dcic[lincs_dcic['Network Domain'].str.contains(\"edu|.ca|.org\", na = False)]\n",
    "academic.shape"
   ]
  },
  {
   "cell_type": "code",
   "execution_count": 198,
   "metadata": {
    "collapsed": false
   },
   "outputs": [
    {
     "data": {
      "text/plain": [
       "(1744, 11)"
      ]
     },
     "execution_count": 198,
     "metadata": {},
     "output_type": "execute_result"
    }
   ],
   "source": [
    "other = lincs_dcic[lincs_dcic['Service Provider'].str.contains(\"telecomunicazioni|holding|vodafone|provider|internet|wifi|server|google|vip|vpn|openlink|warner|webservices|ipv4|internet|cabletelevision|comcast|telecom|t-mobile|xfone|xdsl|virgin|comcast|broadband|communications|softbank|online|access|services|cable|amazon|verizon|television|zscaler|zhoushuli|upc austria|uninet|gprs|uarnet|telekom|mobile|church|adsl|thomson reuters|zhoushuli|telephone|tele2|terremark culpeper|runner|sky|network|so43|so44|scarlet|isp|wlan|sxty|routit|private|rcn|rapidswitch|hotel|gigapop|rostelecom|xplornet|wms\", na = False)]\n",
    "other.shape"
   ]
  },
  {
   "cell_type": "code",
   "execution_count": 199,
   "metadata": {
    "collapsed": false
   },
   "outputs": [
    {
     "data": {
      "text/plain": [
       "(985, 11)"
      ]
     },
     "execution_count": 199,
     "metadata": {},
     "output_type": "execute_result"
    }
   ],
   "source": [
    "academic = lincs_dcic[lincs_dcic['Service Provider'].str.contains(\"universiteit|consortium|center|universite|university|oceanographic|academic|federal|center|hospital|university|medical|universita|universitaire|academic|institute|school|college|katolrikuniversity|center|technische|universidade|institutions|umds|research|universiteit|academy|istituti|riken|hubrecht|oxford|library\", na = False)]\n",
    "academic.shape"
   ]
  },
  {
   "cell_type": "code",
   "execution_count": 107,
   "metadata": {
    "collapsed": false
   },
   "outputs": [
    {
     "data": {
      "text/plain": [
       "(920, 11)"
      ]
     },
     "execution_count": 107,
     "metadata": {},
     "output_type": "execute_result"
    }
   ],
   "source": [
    "academic = lincs_dcic[lincs_dcic['Service Provider'].str.contains(\"oceanographic|academic|federal|center|hospital|university|medical|universita|universitaire|academic|institute|school|college|katolrikuniversity|center|technische|universidade|institutions\", na = False)]\n",
    "academic.shape"
   ]
  },
  {
   "cell_type": "code",
   "execution_count": 200,
   "metadata": {
    "collapsed": false
   },
   "outputs": [
    {
     "data": {
      "text/plain": [
       "(150, 11)"
      ]
     },
     "execution_count": 200,
     "metadata": {},
     "output_type": "execute_result"
    }
   ],
   "source": [
    "# cell signaling technology\n",
    "organizations = lincs_dcic[lincs_dcic['Service Provider'].str.contains('roche|abbott|johnson|merck|illumina|novartis|agency|pharma|bayer|unilever|corporation|biogen', na = False)]\n",
    "organizations.shape"
   ]
  },
  {
   "cell_type": "code",
   "execution_count": 109,
   "metadata": {
    "collapsed": false
   },
   "outputs": [
    {
     "data": {
      "text/plain": [
       "(124, 11)"
      ]
     },
     "execution_count": 109,
     "metadata": {},
     "output_type": "execute_result"
    }
   ],
   "source": [
    "check = lincs_dcic[lincs_dcic['Service Provider'].str.contains('corporation|computer', na = False)]\n",
    "check.shape"
   ]
  },
  {
   "cell_type": "code",
   "execution_count": 1,
   "metadata": {
    "collapsed": false
   },
   "outputs": [
    {
     "ename": "NameError",
     "evalue": "name 'lincs_dcic' is not defined",
     "output_type": "error",
     "traceback": [
      "\u001b[0;31m---------------------------------------------------------------------------\u001b[0m",
      "\u001b[0;31mNameError\u001b[0m                                 Traceback (most recent call last)",
      "\u001b[0;32m<ipython-input-1-e99384c1b576>\u001b[0m in \u001b[0;36m<module>\u001b[0;34m()\u001b[0m\n\u001b[0;32m----> 1\u001b[0;31m \u001b[0mgoverment\u001b[0m \u001b[0;34m=\u001b[0m \u001b[0mlincs_dcic\u001b[0m\u001b[0;34m[\u001b[0m\u001b[0mlincs_dcic\u001b[0m\u001b[0;34m[\u001b[0m\u001b[0;34m'Service Provider'\u001b[0m\u001b[0;34m]\u001b[0m\u001b[0;34m.\u001b[0m\u001b[0mstr\u001b[0m\u001b[0;34m.\u001b[0m\u001b[0mcontains\u001b[0m\u001b[0;34m(\u001b[0m\u001b[0;34m'national inst'\u001b[0m\u001b[0;34m,\u001b[0m \u001b[0mna\u001b[0m \u001b[0;34m=\u001b[0m \u001b[0mFalse\u001b[0m\u001b[0;34m)\u001b[0m\u001b[0;34m]\u001b[0m\u001b[0;34m\u001b[0m\u001b[0m\n\u001b[0m\u001b[1;32m      2\u001b[0m \u001b[0mgoverment\u001b[0m\u001b[0;34m.\u001b[0m\u001b[0mshape\u001b[0m\u001b[0;34m\u001b[0m\u001b[0m\n",
      "\u001b[0;31mNameError\u001b[0m: name 'lincs_dcic' is not defined"
     ]
    }
   ],
   "source": [
    "goverment = lincs_dcic[lincs_dcic['Service Provider'].str.contains('national inst', na = False)]\n",
    "goverment.shape"
   ]
  },
  {
   "cell_type": "code",
   "execution_count": 201,
   "metadata": {
    "collapsed": false
   },
   "outputs": [
    {
     "data": {
      "text/plain": [
       "(51, 11)"
      ]
     },
     "execution_count": 201,
     "metadata": {},
     "output_type": "execute_result"
    }
   ],
   "source": [
    "goverment = lincs_dcic[lincs_dcic['Service Provider'].str.contains('national insti|agency|usda|taipei taiwan|taiwan academic network|national institute of environmental health sciences|red del centro nacional de investigaciones oncologicas|national library of medicine|u.s. environmental protection agency|mayo foundation for medical education and research|pacific northwest national laboratory|oak ridge national laboratory|ministry of education computer center|headquarters usaisc|north carolina research and education network|consiglio nazionale delle ricerche|mrc human genome mapping project resource centre|institut national de la sante et de la recherche medicale|european molecular biology laboratory|bhsai|commission of the european communities|environmental protection agency|secretaria', na = False)]\n",
    "goverment.shape"
   ]
  },
  {
   "cell_type": "markdown",
   "metadata": {},
   "source": [
    "# 3) Harmonizome"
   ]
  },
  {
   "cell_type": "code",
   "execution_count": null,
   "metadata": {
    "collapsed": true
   },
   "outputs": [],
   "source": []
  },
  {
   "cell_type": "code",
   "execution_count": 204,
   "metadata": {
    "collapsed": false
   },
   "outputs": [
    {
     "ename": "CParserError",
     "evalue": "Error tokenizing data. C error: Buffer overflow caught - possible malformed input file.\n",
     "output_type": "error",
     "traceback": [
      "\u001b[0;31m---------------------------------------------------------------------------\u001b[0m",
      "\u001b[0;31mCParserError\u001b[0m                              Traceback (most recent call last)",
      "\u001b[0;32m<ipython-input-204-884c1a334e8d>\u001b[0m in \u001b[0;36m<module>\u001b[0;34m()\u001b[0m\n\u001b[0;32m----> 1\u001b[0;31m \u001b[0mharmonizome\u001b[0m \u001b[0;34m=\u001b[0m \u001b[0mpd\u001b[0m\u001b[0;34m.\u001b[0m\u001b[0mread_csv\u001b[0m\u001b[0;34m(\u001b[0m\u001b[0;34m'/Users/Carol/Desktop/files_google_analytics/harmonizome/harmonizome.txt'\u001b[0m\u001b[0;34m,\u001b[0m\u001b[0mheader\u001b[0m\u001b[0;34m=\u001b[0m\u001b[0;36m0\u001b[0m\u001b[0;34m,\u001b[0m\u001b[0mlow_memory\u001b[0m\u001b[0;34m=\u001b[0m\u001b[0mFalse\u001b[0m\u001b[0;34m)\u001b[0m\u001b[0;34m\u001b[0m\u001b[0m\n\u001b[0m\u001b[1;32m      2\u001b[0m \u001b[0;31m# harmonizome = harmonizome.fillna(value=0) # Fill empty cells with value 0\u001b[0m\u001b[0;34m\u001b[0m\u001b[0;34m\u001b[0m\u001b[0m\n\u001b[1;32m      3\u001b[0m \u001b[0mharmonizome\u001b[0m\u001b[0;34m.\u001b[0m\u001b[0mhead\u001b[0m\u001b[0;34m(\u001b[0m\u001b[0;36m5\u001b[0m\u001b[0;34m)\u001b[0m\u001b[0;34m\u001b[0m\u001b[0m\n",
      "\u001b[0;32m/Library/Frameworks/Python.framework/Versions/2.7/lib/python2.7/site-packages/pandas/io/parsers.pyc\u001b[0m in \u001b[0;36mparser_f\u001b[0;34m(filepath_or_buffer, sep, delimiter, header, names, index_col, usecols, squeeze, prefix, mangle_dupe_cols, dtype, engine, converters, true_values, false_values, skipinitialspace, skiprows, nrows, na_values, keep_default_na, na_filter, verbose, skip_blank_lines, parse_dates, infer_datetime_format, keep_date_col, date_parser, dayfirst, iterator, chunksize, compression, thousands, decimal, lineterminator, quotechar, quoting, escapechar, comment, encoding, dialect, tupleize_cols, error_bad_lines, warn_bad_lines, skipfooter, skip_footer, doublequote, delim_whitespace, as_recarray, compact_ints, use_unsigned, low_memory, buffer_lines, memory_map, float_precision)\u001b[0m\n\u001b[1;32m    643\u001b[0m                     skip_blank_lines=skip_blank_lines)\n\u001b[1;32m    644\u001b[0m \u001b[0;34m\u001b[0m\u001b[0m\n\u001b[0;32m--> 645\u001b[0;31m         \u001b[0;32mreturn\u001b[0m \u001b[0m_read\u001b[0m\u001b[0;34m(\u001b[0m\u001b[0mfilepath_or_buffer\u001b[0m\u001b[0;34m,\u001b[0m \u001b[0mkwds\u001b[0m\u001b[0;34m)\u001b[0m\u001b[0;34m\u001b[0m\u001b[0m\n\u001b[0m\u001b[1;32m    646\u001b[0m \u001b[0;34m\u001b[0m\u001b[0m\n\u001b[1;32m    647\u001b[0m     \u001b[0mparser_f\u001b[0m\u001b[0;34m.\u001b[0m\u001b[0m__name__\u001b[0m \u001b[0;34m=\u001b[0m \u001b[0mname\u001b[0m\u001b[0;34m\u001b[0m\u001b[0m\n",
      "\u001b[0;32m/Library/Frameworks/Python.framework/Versions/2.7/lib/python2.7/site-packages/pandas/io/parsers.pyc\u001b[0m in \u001b[0;36m_read\u001b[0;34m(filepath_or_buffer, kwds)\u001b[0m\n\u001b[1;32m    398\u001b[0m         \u001b[0;32mreturn\u001b[0m \u001b[0mparser\u001b[0m\u001b[0;34m\u001b[0m\u001b[0m\n\u001b[1;32m    399\u001b[0m \u001b[0;34m\u001b[0m\u001b[0m\n\u001b[0;32m--> 400\u001b[0;31m     \u001b[0mdata\u001b[0m \u001b[0;34m=\u001b[0m \u001b[0mparser\u001b[0m\u001b[0;34m.\u001b[0m\u001b[0mread\u001b[0m\u001b[0;34m(\u001b[0m\u001b[0;34m)\u001b[0m\u001b[0;34m\u001b[0m\u001b[0m\n\u001b[0m\u001b[1;32m    401\u001b[0m     \u001b[0mparser\u001b[0m\u001b[0;34m.\u001b[0m\u001b[0mclose\u001b[0m\u001b[0;34m(\u001b[0m\u001b[0;34m)\u001b[0m\u001b[0;34m\u001b[0m\u001b[0m\n\u001b[1;32m    402\u001b[0m     \u001b[0;32mreturn\u001b[0m \u001b[0mdata\u001b[0m\u001b[0;34m\u001b[0m\u001b[0m\n",
      "\u001b[0;32m/Library/Frameworks/Python.framework/Versions/2.7/lib/python2.7/site-packages/pandas/io/parsers.pyc\u001b[0m in \u001b[0;36mread\u001b[0;34m(self, nrows)\u001b[0m\n\u001b[1;32m    936\u001b[0m                 \u001b[0;32mraise\u001b[0m \u001b[0mValueError\u001b[0m\u001b[0;34m(\u001b[0m\u001b[0;34m'skipfooter not supported for iteration'\u001b[0m\u001b[0;34m)\u001b[0m\u001b[0;34m\u001b[0m\u001b[0m\n\u001b[1;32m    937\u001b[0m \u001b[0;34m\u001b[0m\u001b[0m\n\u001b[0;32m--> 938\u001b[0;31m         \u001b[0mret\u001b[0m \u001b[0;34m=\u001b[0m \u001b[0mself\u001b[0m\u001b[0;34m.\u001b[0m\u001b[0m_engine\u001b[0m\u001b[0;34m.\u001b[0m\u001b[0mread\u001b[0m\u001b[0;34m(\u001b[0m\u001b[0mnrows\u001b[0m\u001b[0;34m)\u001b[0m\u001b[0;34m\u001b[0m\u001b[0m\n\u001b[0m\u001b[1;32m    939\u001b[0m \u001b[0;34m\u001b[0m\u001b[0m\n\u001b[1;32m    940\u001b[0m         \u001b[0;32mif\u001b[0m \u001b[0mself\u001b[0m\u001b[0;34m.\u001b[0m\u001b[0moptions\u001b[0m\u001b[0;34m.\u001b[0m\u001b[0mget\u001b[0m\u001b[0;34m(\u001b[0m\u001b[0;34m'as_recarray'\u001b[0m\u001b[0;34m)\u001b[0m\u001b[0;34m:\u001b[0m\u001b[0;34m\u001b[0m\u001b[0m\n",
      "\u001b[0;32m/Library/Frameworks/Python.framework/Versions/2.7/lib/python2.7/site-packages/pandas/io/parsers.pyc\u001b[0m in \u001b[0;36mread\u001b[0;34m(self, nrows)\u001b[0m\n\u001b[1;32m   1503\u001b[0m     \u001b[0;32mdef\u001b[0m \u001b[0mread\u001b[0m\u001b[0;34m(\u001b[0m\u001b[0mself\u001b[0m\u001b[0;34m,\u001b[0m \u001b[0mnrows\u001b[0m\u001b[0;34m=\u001b[0m\u001b[0mNone\u001b[0m\u001b[0;34m)\u001b[0m\u001b[0;34m:\u001b[0m\u001b[0;34m\u001b[0m\u001b[0m\n\u001b[1;32m   1504\u001b[0m         \u001b[0;32mtry\u001b[0m\u001b[0;34m:\u001b[0m\u001b[0;34m\u001b[0m\u001b[0m\n\u001b[0;32m-> 1505\u001b[0;31m             \u001b[0mdata\u001b[0m \u001b[0;34m=\u001b[0m \u001b[0mself\u001b[0m\u001b[0;34m.\u001b[0m\u001b[0m_reader\u001b[0m\u001b[0;34m.\u001b[0m\u001b[0mread\u001b[0m\u001b[0;34m(\u001b[0m\u001b[0mnrows\u001b[0m\u001b[0;34m)\u001b[0m\u001b[0;34m\u001b[0m\u001b[0m\n\u001b[0m\u001b[1;32m   1506\u001b[0m         \u001b[0;32mexcept\u001b[0m \u001b[0mStopIteration\u001b[0m\u001b[0;34m:\u001b[0m\u001b[0;34m\u001b[0m\u001b[0m\n\u001b[1;32m   1507\u001b[0m             \u001b[0;32mif\u001b[0m \u001b[0mself\u001b[0m\u001b[0;34m.\u001b[0m\u001b[0m_first_chunk\u001b[0m\u001b[0;34m:\u001b[0m\u001b[0;34m\u001b[0m\u001b[0m\n",
      "\u001b[0;32mpandas/parser.pyx\u001b[0m in \u001b[0;36mpandas.parser.TextReader.read (pandas/parser.c:9907)\u001b[0;34m()\u001b[0m\n",
      "\u001b[0;32mpandas/parser.pyx\u001b[0m in \u001b[0;36mpandas.parser.TextReader._read_rows (pandas/parser.c:11040)\u001b[0;34m()\u001b[0m\n",
      "\u001b[0;32mpandas/parser.pyx\u001b[0m in \u001b[0;36mpandas.parser.raise_parser_error (pandas/parser.c:25878)\u001b[0;34m()\u001b[0m\n",
      "\u001b[0;31mCParserError\u001b[0m: Error tokenizing data. C error: Buffer overflow caught - possible malformed input file.\n"
     ]
    }
   ],
   "source": [
    "harmonizome = pd.read_csv('/Users/Carol/Desktop/files_google_analytics/harmonizome/harmonizome.txt',header=0,low_memory=False)\n",
    "# harmonizome = harmonizome.fillna(value=0) # Fill empty cells with value 0\n",
    "harmonizome.head(5)"
   ]
  },
  {
   "cell_type": "code",
   "execution_count": null,
   "metadata": {
    "collapsed": true
   },
   "outputs": [],
   "source": []
  },
  {
   "cell_type": "code",
   "execution_count": null,
   "metadata": {
    "collapsed": true
   },
   "outputs": [],
   "source": [
    "##### Completar palavras no L1000CDS2 e depois substituir  nos outros"
   ]
  },
  {
   "cell_type": "markdown",
   "metadata": {},
   "source": [
    "# 4) L1000CDS2"
   ]
  },
  {
   "cell_type": "code",
   "execution_count": null,
   "metadata": {
    "collapsed": true
   },
   "outputs": [],
   "source": [
    "/Users/Carol/Desktop/files_google_analytics/l1000cds2/l1000cds2.csv "
   ]
  },
  {
   "cell_type": "code",
   "execution_count": 133,
   "metadata": {
    "collapsed": false
   },
   "outputs": [
    {
     "data": {
      "text/plain": [
       "(1035, 11)"
      ]
     },
     "execution_count": 133,
     "metadata": {},
     "output_type": "execute_result"
    }
   ],
   "source": [
    "l1000cds = pd.read_csv('/Users/Carol/Desktop/files_google_analytics/l1000cds2/l1000cds2.csv',low_memory=False)\n",
    "# cds = l1000cds.fillna(value=0) # Fill empty cells with value 0\n",
    "l1000cds.shape"
   ]
  },
  {
   "cell_type": "code",
   "execution_count": 134,
   "metadata": {
    "collapsed": false
   },
   "outputs": [],
   "source": [
    "# academic_l1000 = l1000cds[l1000cds['Network Domain'].str.contains(\"edu|.ca|.org\", na = False)]\n",
    "# academic_l1000.shape"
   ]
  },
  {
   "cell_type": "code",
   "execution_count": 195,
   "metadata": {
    "collapsed": false
   },
   "outputs": [
    {
     "data": {
      "text/plain": [
       "(340, 11)"
      ]
     },
     "execution_count": 195,
     "metadata": {},
     "output_type": "execute_result"
    }
   ],
   "source": [
    "academic_l1000 = l1000cds[l1000cds['Service Provider'].str.contains(\"universiteit|consortium|center|universite|university|oceanographic|academic|federal|center|hospital|university|medical|universita|universitaire|academic|institute|school|college|katolrikuniversity|center|technische|universidade|institutions|umds|research|universiteit|academy|istituti|riken|hubrecht|oxford|library\", na = False)]\n",
    "academic_l1000.shape"
   ]
  },
  {
   "cell_type": "code",
   "execution_count": 202,
   "metadata": {
    "collapsed": false
   },
   "outputs": [
    {
     "data": {
      "text/plain": [
       "(344, 11)"
      ]
     },
     "execution_count": 202,
     "metadata": {},
     "output_type": "execute_result"
    }
   ],
   "source": [
    "other_l1000 = l1000cds[l1000cds['Service Provider'].str.contains(\"telecomunicazioni|holding|vodafone|provider|internet|wifi|server|google|vip|vpn|openlink|warner|webservices|ipv4|internet|cabletelevision|comcast|telecom|t-mobile|xfone|xdsl|virgin|comcast|broadband|communications|softbank|online|access|services|cable|amazon|verizon|television|zscaler|zhoushuli|upc austria|uninet|gprs|uarnet|telekom|mobile|church|adsl|thomson reuters|zhoushuli|telephone|tele2|terremark culpeper|runner|sky|network|so43|so44|scarlet|isp|wlan|sxty|routit|private|rcn|rapidswitch|hotel|gigapop|rostelecom|xplornet|wms|store|volumedrive|vital net\", na = False)]\n",
    "other_l1000.shape"
   ]
  },
  {
   "cell_type": "code",
   "execution_count": 185,
   "metadata": {
    "collapsed": false
   },
   "outputs": [
    {
     "data": {
      "text/plain": [
       "(60, 11)"
      ]
     },
     "execution_count": 185,
     "metadata": {},
     "output_type": "execute_result"
    }
   ],
   "source": [
    "# cell signaling technology\n",
    "organizations_l1000 = l1000cds[l1000cds['Service Provider'].str.contains('roche|abbott|johnson|merck|illumina|novartis|agency|pharma|bayer|unilever|corporation|biogen', na = False)]\n",
    "organizations_l1000.shape"
   ]
  },
  {
   "cell_type": "code",
   "execution_count": 180,
   "metadata": {
    "collapsed": false
   },
   "outputs": [
    {
     "data": {
      "text/plain": [
       "(27, 11)"
      ]
     },
     "execution_count": 180,
     "metadata": {},
     "output_type": "execute_result"
    }
   ],
   "source": [
    "goverment_l1000 = l1000cds[l1000cds['Service Provider'].str.contains('national insti|agency|usda|taipei taiwan|taiwan academic network|national institute of environmental health sciences|red del centro nacional de investigaciones oncologicas|national library of medicine|u.s. environmental protection agency|mayo foundation for medical education and research|pacific northwest national laboratory|oak ridge national laboratory|ministry of education computer center|headquarters usaisc|north carolina research and education network|consiglio nazionale delle ricerche|mrc human genome mapping project resource centre|institut national de la sante et de la recherche medicale|european molecular biology laboratory|bhsai|commission of the european communities|environmental protection agency|secretaria', na = False)]\n",
    "goverment_l1000.shape"
   ]
  },
  {
   "cell_type": "code",
   "execution_count": null,
   "metadata": {
    "collapsed": true
   },
   "outputs": [],
   "source": [
    "check_l1000 = l1000cds[l1000cds['Service Provider'].str.contains('university', na = False)]\n",
    "check_l1000.shape"
   ]
  },
  {
   "cell_type": "code",
   "execution_count": null,
   "metadata": {
    "collapsed": true
   },
   "outputs": [],
   "source": []
  },
  {
   "cell_type": "code",
   "execution_count": 14,
   "metadata": {
    "collapsed": false
   },
   "outputs": [
    {
     "data": {
      "text/html": [
       "<div>\n",
       "<table border=\"1\" class=\"dataframe\">\n",
       "  <thead>\n",
       "    <tr style=\"text-align: right;\">\n",
       "      <th></th>\n",
       "      <th>Unnamed: 0</th>\n",
       "      <th>TF</th>\n",
       "      <th>TFF</th>\n",
       "      <th>gene</th>\n",
       "      <th>a1</th>\n",
       "      <th>a2</th>\n",
       "      <th>a3</th>\n",
       "      <th>a4</th>\n",
       "      <th>a5</th>\n",
       "      <th>a6</th>\n",
       "      <th>...</th>\n",
       "      <th>a944</th>\n",
       "      <th>a945</th>\n",
       "      <th>a946</th>\n",
       "      <th>a947</th>\n",
       "      <th>a948</th>\n",
       "      <th>a949</th>\n",
       "      <th>a950</th>\n",
       "      <th>a951</th>\n",
       "      <th>a952</th>\n",
       "      <th>a953</th>\n",
       "    </tr>\n",
       "  </thead>\n",
       "  <tbody>\n",
       "    <tr>\n",
       "      <th>0</th>\n",
       "      <td>10</td>\n",
       "      <td>PPARA</td>\n",
       "      <td>PPARA-up</td>\n",
       "      <td>gene_501</td>\n",
       "      <td>ANGPTL4</td>\n",
       "      <td>ACSL1</td>\n",
       "      <td>CYP3A5</td>\n",
       "      <td>AADAC</td>\n",
       "      <td>AKR1C3</td>\n",
       "      <td>FABP1</td>\n",
       "      <td>...</td>\n",
       "      <td>NaN</td>\n",
       "      <td>NaN</td>\n",
       "      <td>NaN</td>\n",
       "      <td>NaN</td>\n",
       "      <td>NaN</td>\n",
       "      <td>NaN</td>\n",
       "      <td>NaN</td>\n",
       "      <td>NaN</td>\n",
       "      <td>NaN</td>\n",
       "      <td>NaN</td>\n",
       "    </tr>\n",
       "    <tr>\n",
       "      <th>1</th>\n",
       "      <td>11</td>\n",
       "      <td>PPARA</td>\n",
       "      <td>PPARA-dn</td>\n",
       "      <td>gene_501</td>\n",
       "      <td>AHSG</td>\n",
       "      <td>TUBB2A</td>\n",
       "      <td>ODC1</td>\n",
       "      <td>FLRT3</td>\n",
       "      <td>KRT18</td>\n",
       "      <td>CTGF</td>\n",
       "      <td>...</td>\n",
       "      <td>NaN</td>\n",
       "      <td>NaN</td>\n",
       "      <td>NaN</td>\n",
       "      <td>NaN</td>\n",
       "      <td>NaN</td>\n",
       "      <td>NaN</td>\n",
       "      <td>NaN</td>\n",
       "      <td>NaN</td>\n",
       "      <td>NaN</td>\n",
       "      <td>NaN</td>\n",
       "    </tr>\n",
       "    <tr>\n",
       "      <th>2</th>\n",
       "      <td>28</td>\n",
       "      <td>MECOM</td>\n",
       "      <td>MECOM-up</td>\n",
       "      <td>gene_2342</td>\n",
       "      <td>FXYD5</td>\n",
       "      <td>SH3BGRL3</td>\n",
       "      <td>MT2A</td>\n",
       "      <td>TIMP1</td>\n",
       "      <td>ACTB</td>\n",
       "      <td>ND2</td>\n",
       "      <td>...</td>\n",
       "      <td>NaN</td>\n",
       "      <td>NaN</td>\n",
       "      <td>NaN</td>\n",
       "      <td>NaN</td>\n",
       "      <td>NaN</td>\n",
       "      <td>NaN</td>\n",
       "      <td>NaN</td>\n",
       "      <td>NaN</td>\n",
       "      <td>NaN</td>\n",
       "      <td>NaN</td>\n",
       "    </tr>\n",
       "    <tr>\n",
       "      <th>3</th>\n",
       "      <td>29</td>\n",
       "      <td>MECOM</td>\n",
       "      <td>MECOM-dn</td>\n",
       "      <td>gene_2342</td>\n",
       "      <td>RPL13AP5</td>\n",
       "      <td>HBBP1</td>\n",
       "      <td>AKR1C3</td>\n",
       "      <td>FTH1P5</td>\n",
       "      <td>SOD1</td>\n",
       "      <td>HBD</td>\n",
       "      <td>...</td>\n",
       "      <td>NaN</td>\n",
       "      <td>NaN</td>\n",
       "      <td>NaN</td>\n",
       "      <td>NaN</td>\n",
       "      <td>NaN</td>\n",
       "      <td>NaN</td>\n",
       "      <td>NaN</td>\n",
       "      <td>NaN</td>\n",
       "      <td>NaN</td>\n",
       "      <td>NaN</td>\n",
       "    </tr>\n",
       "  </tbody>\n",
       "</table>\n",
       "<p>4 rows × 957 columns</p>\n",
       "</div>"
      ],
      "text/plain": [
       "   Unnamed: 0     TF       TFF       gene        a1        a2      a3      a4  \\\n",
       "0          10  PPARA  PPARA-up   gene_501   ANGPTL4     ACSL1  CYP3A5   AADAC   \n",
       "1          11  PPARA  PPARA-dn   gene_501      AHSG    TUBB2A    ODC1   FLRT3   \n",
       "2          28  MECOM  MECOM-up  gene_2342     FXYD5  SH3BGRL3    MT2A   TIMP1   \n",
       "3          29  MECOM  MECOM-dn  gene_2342  RPL13AP5     HBBP1  AKR1C3  FTH1P5   \n",
       "\n",
       "       a5     a6 ...  a944 a945 a946 a947 a948 a949 a950 a951 a952 a953  \n",
       "0  AKR1C3  FABP1 ...   NaN  NaN  NaN  NaN  NaN  NaN  NaN  NaN  NaN  NaN  \n",
       "1   KRT18   CTGF ...   NaN  NaN  NaN  NaN  NaN  NaN  NaN  NaN  NaN  NaN  \n",
       "2    ACTB    ND2 ...   NaN  NaN  NaN  NaN  NaN  NaN  NaN  NaN  NaN  NaN  \n",
       "3    SOD1    HBD ...   NaN  NaN  NaN  NaN  NaN  NaN  NaN  NaN  NaN  NaN  \n",
       "\n",
       "[4 rows x 957 columns]"
      ]
     },
     "execution_count": 14,
     "metadata": {},
     "output_type": "execute_result"
    }
   ],
   "source": [
    "df = pd.read_csv('/Users/Carol/Desktop/narrow/creeds/overlapping_creeds.csv', header=0)\n",
    "df.head(4)"
   ]
  },
  {
   "cell_type": "code",
   "execution_count": 12,
   "metadata": {
    "collapsed": false
   },
   "outputs": [
    {
     "data": {
      "text/html": [
       "<div>\n",
       "<table border=\"1\" class=\"dataframe\">\n",
       "  <thead>\n",
       "    <tr style=\"text-align: right;\">\n",
       "      <th></th>\n",
       "      <th>1</th>\n",
       "      <th>3</th>\n",
       "      <th>5</th>\n",
       "      <th>7</th>\n",
       "      <th>9</th>\n",
       "      <th>11</th>\n",
       "      <th>13</th>\n",
       "      <th>15</th>\n",
       "      <th>17</th>\n",
       "      <th>19</th>\n",
       "      <th>...</th>\n",
       "      <th>497</th>\n",
       "      <th>499</th>\n",
       "      <th>501</th>\n",
       "      <th>503</th>\n",
       "      <th>505</th>\n",
       "      <th>507</th>\n",
       "      <th>509</th>\n",
       "      <th>511</th>\n",
       "      <th>513</th>\n",
       "      <th>515</th>\n",
       "    </tr>\n",
       "  </thead>\n",
       "  <tbody>\n",
       "    <tr>\n",
       "      <th>Unnamed: 0</th>\n",
       "      <td>11</td>\n",
       "      <td>29</td>\n",
       "      <td>31</td>\n",
       "      <td>39</td>\n",
       "      <td>53</td>\n",
       "      <td>95</td>\n",
       "      <td>101</td>\n",
       "      <td>133</td>\n",
       "      <td>135</td>\n",
       "      <td>137</td>\n",
       "      <td>...</td>\n",
       "      <td>4167</td>\n",
       "      <td>4169</td>\n",
       "      <td>4179</td>\n",
       "      <td>4243</td>\n",
       "      <td>4291</td>\n",
       "      <td>4317</td>\n",
       "      <td>4319</td>\n",
       "      <td>4327</td>\n",
       "      <td>4329</td>\n",
       "      <td>4341</td>\n",
       "    </tr>\n",
       "    <tr>\n",
       "      <th>TF</th>\n",
       "      <td>PPARA</td>\n",
       "      <td>MECOM</td>\n",
       "      <td>MECOM</td>\n",
       "      <td>CTNNB1</td>\n",
       "      <td>YAP1</td>\n",
       "      <td>RAD21</td>\n",
       "      <td>CREB1</td>\n",
       "      <td>POU5F1</td>\n",
       "      <td>POU5F1</td>\n",
       "      <td>ETS2</td>\n",
       "      <td>...</td>\n",
       "      <td>NR1I2</td>\n",
       "      <td>ELK1</td>\n",
       "      <td>ELK1</td>\n",
       "      <td>SIRT6</td>\n",
       "      <td>CTNNB1</td>\n",
       "      <td>TP53</td>\n",
       "      <td>ESR1</td>\n",
       "      <td>FOXA1</td>\n",
       "      <td>CCND1</td>\n",
       "      <td>HNF1A</td>\n",
       "    </tr>\n",
       "    <tr>\n",
       "      <th>TFF</th>\n",
       "      <td>PPARA-dn</td>\n",
       "      <td>MECOM-dn</td>\n",
       "      <td>MECOM-dn</td>\n",
       "      <td>CTNNB1-dn</td>\n",
       "      <td>YAP1-dn</td>\n",
       "      <td>RAD21-dn</td>\n",
       "      <td>CREB1-dn</td>\n",
       "      <td>POU5F1-dn</td>\n",
       "      <td>POU5F1-dn</td>\n",
       "      <td>ETS2-dn</td>\n",
       "      <td>...</td>\n",
       "      <td>NR1I2-dn</td>\n",
       "      <td>ELK1-dn</td>\n",
       "      <td>ELK1-dn</td>\n",
       "      <td>SIRT6-dn</td>\n",
       "      <td>CTNNB1-dn</td>\n",
       "      <td>TP53-dn</td>\n",
       "      <td>ESR1-dn</td>\n",
       "      <td>FOXA1-dn</td>\n",
       "      <td>CCND1-dn</td>\n",
       "      <td>HNF1A-dn</td>\n",
       "    </tr>\n",
       "    <tr>\n",
       "      <th>gene</th>\n",
       "      <td>gene_501</td>\n",
       "      <td>gene_2342</td>\n",
       "      <td>gene_2341</td>\n",
       "      <td>gene_2583</td>\n",
       "      <td>gene_2588</td>\n",
       "      <td>gene_2792</td>\n",
       "      <td>gene_68</td>\n",
       "      <td>gene_1328</td>\n",
       "      <td>gene_1329</td>\n",
       "      <td>gene_34</td>\n",
       "      <td>...</td>\n",
       "      <td>gene_2903</td>\n",
       "      <td>gene_2863</td>\n",
       "      <td>gene_2865</td>\n",
       "      <td>gene_1117</td>\n",
       "      <td>gene_655</td>\n",
       "      <td>gene_478</td>\n",
       "      <td>gene_479</td>\n",
       "      <td>gene_2164</td>\n",
       "      <td>gene_2163</td>\n",
       "      <td>gene_279</td>\n",
       "    </tr>\n",
       "  </tbody>\n",
       "</table>\n",
       "<p>4 rows × 258 columns</p>\n",
       "</div>"
      ],
      "text/plain": [
       "                 1          3          5          7          9          11   \\\n",
       "Unnamed: 0        11         29         31         39         53         95   \n",
       "TF             PPARA      MECOM      MECOM     CTNNB1       YAP1      RAD21   \n",
       "TFF         PPARA-dn   MECOM-dn   MECOM-dn  CTNNB1-dn    YAP1-dn   RAD21-dn   \n",
       "gene        gene_501  gene_2342  gene_2341  gene_2583  gene_2588  gene_2792   \n",
       "\n",
       "                 13         15         17       19     ...           497  \\\n",
       "Unnamed: 0       101        133        135      137    ...          4167   \n",
       "TF             CREB1     POU5F1     POU5F1     ETS2    ...         NR1I2   \n",
       "TFF         CREB1-dn  POU5F1-dn  POU5F1-dn  ETS2-dn    ...      NR1I2-dn   \n",
       "gene         gene_68  gene_1328  gene_1329  gene_34    ...     gene_2903   \n",
       "\n",
       "                  499        501        503        505       507       509  \\\n",
       "Unnamed: 0       4169       4179       4243       4291      4317      4319   \n",
       "TF               ELK1       ELK1      SIRT6     CTNNB1      TP53      ESR1   \n",
       "TFF           ELK1-dn    ELK1-dn   SIRT6-dn  CTNNB1-dn   TP53-dn   ESR1-dn   \n",
       "gene        gene_2863  gene_2865  gene_1117   gene_655  gene_478  gene_479   \n",
       "\n",
       "                  511        513       515  \n",
       "Unnamed: 0       4327       4329      4341  \n",
       "TF              FOXA1      CCND1     HNF1A  \n",
       "TFF          FOXA1-dn   CCND1-dn  HNF1A-dn  \n",
       "gene        gene_2164  gene_2163  gene_279  \n",
       "\n",
       "[4 rows x 258 columns]"
      ]
     },
     "execution_count": 12,
     "metadata": {},
     "output_type": "execute_result"
    }
   ],
   "source": [
    "creeds_dn = df[df['TFF'].str.contains('dn', na = False)]\n",
    "creeds_dn = creeds_dn.T\n",
    "creeds_dn.head(4)"
   ]
  },
  {
   "cell_type": "code",
   "execution_count": 13,
   "metadata": {
    "collapsed": true
   },
   "outputs": [],
   "source": [
    "creeds_dn.to_csv('creeds_down_only.csv')"
   ]
  },
  {
   "cell_type": "code",
   "execution_count": null,
   "metadata": {
    "collapsed": true
   },
   "outputs": [],
   "source": []
  }
 ],
 "metadata": {
  "kernelspec": {
   "display_name": "Python 2",
   "language": "python",
   "name": "python2"
  },
  "language_info": {
   "codemirror_mode": {
    "name": "ipython",
    "version": 2
   },
   "file_extension": ".py",
   "mimetype": "text/x-python",
   "name": "python",
   "nbconvert_exporter": "python",
   "pygments_lexer": "ipython2",
   "version": "2.7.11"
  }
 },
 "nbformat": 4,
 "nbformat_minor": 1
}
